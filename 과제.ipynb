{
 "cells": [
  {
   "cell_type": "code",
   "execution_count": 1,
   "metadata": {
    "collapsed": false
   },
   "outputs": [
    {
     "ename": "ImportError",
     "evalue": "No module named iplantuml",
     "output_type": "error",
     "traceback": [
      "\u001b[0;31m---------------------------------------------------------------------------\u001b[0m",
      "\u001b[0;31mImportError\u001b[0m                               Traceback (most recent call last)",
      "\u001b[0;32m<ipython-input-1-aeaed973df32>\u001b[0m in \u001b[0;36m<module>\u001b[0;34m()\u001b[0m\n\u001b[0;32m----> 1\u001b[0;31m \u001b[1;32mimport\u001b[0m \u001b[0miplantuml\u001b[0m\u001b[1;33m\u001b[0m\u001b[0m\n\u001b[0m",
      "\u001b[0;31mImportError\u001b[0m: No module named iplantuml"
     ]
    }
   ],
   "source": [
    "import iplantuml"
   ]
  },
  {
   "cell_type": "code",
   "execution_count": 2,
   "metadata": {
    "collapsed": false
   },
   "outputs": [
    {
     "name": "stderr",
     "output_type": "stream",
     "text": [
      "ERROR:root:Cell magic `%%plantuml` not found.\n"
     ]
    }
   ],
   "source": [
    "%%plantuml\n",
    "@startuml\n",
    "browser -> webServer:request (url)\n",
    "webServer -> browser:response (a web page)\n",
    "@enduml"
   ]
  },
  {
   "cell_type": "code",
   "execution_count": 3,
   "metadata": {
    "collapsed": false
   },
   "outputs": [
    {
     "ename": "SyntaxError",
     "evalue": "invalid syntax (<ipython-input-3-a9bcb6b34cb8>, line 1)",
     "output_type": "error",
     "traceback": [
      "\u001b[0;36m  File \u001b[0;32m\"<ipython-input-3-a9bcb6b34cb8>\"\u001b[0;36m, line \u001b[0;32m1\u001b[0m\n\u001b[0;31m    scheme:[//[user:password@]host[:port]][/]path[?query][#fragment]\u001b[0m\n\u001b[0m          ^\u001b[0m\n\u001b[0;31mSyntaxError\u001b[0m\u001b[0;31m:\u001b[0m invalid syntax\n"
     ]
    }
   ],
   "source": [
    "scheme:[//[user:password@]host[:port]][/]path[?query][#fragment]"
   ]
  },
  {
   "cell_type": "code",
   "execution_count": 4,
   "metadata": {
    "collapsed": false
   },
   "outputs": [
    {
     "name": "stdout",
     "output_type": "stream",
     "text": [
      "Overwriting mypage.html\n"
     ]
    }
   ],
   "source": [
    "%%writefile mypage.html\n",
    "<!DOCTYPE html>\n",
    "<html>\n",
    "<head>\n",
    "<title>My Home Page</title>\n",
    "</head>\n",
    "<body>\n",
    "<h1>안녕하십니까</h1>\n",
    "<p>오늘은 프로그래밍 하는 날...</p>\n",
    "<p>Today we do programming...</p>\n",
    "</body>\n",
    "</html>"
   ]
  },
  {
   "cell_type": "code",
   "execution_count": 5,
   "metadata": {
    "collapsed": true
   },
   "outputs": [],
   "source": [
    "import webbrowser\n",
    "import os"
   ]
  },
  {
   "cell_type": "code",
   "execution_count": 6,
   "metadata": {
    "collapsed": false
   },
   "outputs": [
    {
     "data": {
      "text/plain": [
       "True"
      ]
     },
     "execution_count": 6,
     "metadata": {},
     "output_type": "execute_result"
    }
   ],
   "source": [
    "myuri='file://'+'localhost'+os.path.join(os.getcwd(), 'mypage.html')\n",
    "webbrowser.open(myuri)\n",
    "# uri형식을 지키지 않으면 안된다.\n",
    "# webbrowser.open('mypage.html')"
   ]
  },
  {
   "cell_type": "code",
   "execution_count": 7,
   "metadata": {
    "collapsed": false
   },
   "outputs": [
    {
     "name": "stdout",
     "output_type": "stream",
     "text": [
      "Overwriting mypage.html\n"
     ]
    }
   ],
   "source": [
    "%%writefile mypage.html\n",
    "<!DOCTYPE html>\n",
    "<html>\n",
    "<head>\n",
    "<meta charset=\"UTF-8\">\n",
    "<title>My Home Page</title>\n",
    "</head>\n",
    "<body>\n",
    "<h1>안녕하십니까</h1>\n",
    "<p>오늘은 프로그래밍 하는 날...</p>\n",
    "<p>Today we do programming...</p>\n",
    "</body>\n",
    "</html>"
   ]
  },
  {
   "cell_type": "code",
   "execution_count": 8,
   "metadata": {
    "collapsed": false
   },
   "outputs": [
    {
     "data": {
      "text/plain": [
       "True"
      ]
     },
     "execution_count": 8,
     "metadata": {},
     "output_type": "execute_result"
    }
   ],
   "source": [
    "webbrowser.open(myuri)"
   ]
  },
  {
   "cell_type": "code",
   "execution_count": 9,
   "metadata": {
    "collapsed": false
   },
   "outputs": [
    {
     "data": {
      "text/html": [
       "<!DOCTYPE html>\n",
       "<html>\n",
       "<head>\n",
       "<title>My Home Page</title>\n",
       "</head>\n",
       "<body>\n",
       "<h1>안녕하십니까</h1>\n",
       "<p>오늘은 프로그래밍 하는 날...</p>\n",
       "<p>Today we do programming...</p>\n",
       "</body>\n",
       "</html>"
      ],
      "text/plain": [
       "<IPython.core.display.HTML object>"
      ]
     },
     "metadata": {},
     "output_type": "display_data"
    }
   ],
   "source": [
    "%%HTML\n",
    "<!DOCTYPE html>\n",
    "<html>\n",
    "<head>\n",
    "<title>My Home Page</title>\n",
    "</head>\n",
    "<body>\n",
    "<h1>안녕하십니까</h1>\n",
    "<p>오늘은 프로그래밍 하는 날...</p>\n",
    "<p>Today we do programming...</p>\n",
    "</body>\n",
    "</html>"
   ]
  },
  {
   "cell_type": "code",
   "execution_count": 10,
   "metadata": {
    "collapsed": false
   },
   "outputs": [
    {
     "data": {
      "text/plain": [
       "True"
      ]
     },
     "execution_count": 10,
     "metadata": {},
     "output_type": "execute_result"
    }
   ],
   "source": [
    "#브라우저에서 지도 열기\n",
    "import webbrowser\n",
    "myurl='https://www.google.co.kr/maps/place/Hongji-dong,+Jongno-gu,+Seoul/'\n",
    "webbrowser.open(myurl)"
   ]
  },
  {
   "cell_type": "code",
   "execution_count": 11,
   "metadata": {
    "collapsed": false
   },
   "outputs": [
    {
     "name": "stdout",
     "output_type": "stream",
     "text": [
      "a=4&c=2016&b=20&e=30&d=6&f=2016&s=%5EKS11\n"
     ]
    }
   ],
   "source": [
    "import urllib\n",
    "params = urllib.urlencode({\"a\": 4, \"b\": 20, \"c\": 2016, \"d\": 6, \"e\": 30, \"f\": 2016, \"s\": \"^KS11\"})\n",
    "print params"
   ]
  },
  {
   "cell_type": "code",
   "execution_count": 12,
   "metadata": {
    "collapsed": true
   },
   "outputs": [],
   "source": [
    "import xml.etree.ElementTree as ET"
   ]
  },
  {
   "cell_type": "code",
   "execution_count": 13,
   "metadata": {
    "collapsed": true
   },
   "outputs": [],
   "source": [
    "tree=ET.parse('my.xml')"
   ]
  },
  {
   "cell_type": "code",
   "execution_count": 15,
   "metadata": {
    "collapsed": false
   },
   "outputs": [],
   "source": [
    "root=tree.getroot()"
   ]
  },
  {
   "cell_type": "code",
   "execution_count": 16,
   "metadata": {
    "collapsed": false
   },
   "outputs": [
    {
     "ename": "SyntaxError",
     "evalue": "invalid syntax (<ipython-input-16-78a71303176c>, line 1)",
     "output_type": "error",
     "traceback": [
      "\u001b[0;36m  File \u001b[0;32m\"<ipython-input-16-78a71303176c>\"\u001b[0;36m, line \u001b[0;32m1\u001b[0m\n\u001b[0;31m    root.getiterator():\u001b[0m\n\u001b[0m                      ^\u001b[0m\n\u001b[0;31mSyntaxError\u001b[0m\u001b[0;31m:\u001b[0m invalid syntax\n"
     ]
    }
   ],
   "source": [
    "root.getiterator():"
   ]
  },
  {
   "cell_type": "code",
   "execution_count": 17,
   "metadata": {
    "collapsed": false
   },
   "outputs": [
    {
     "ename": "ImportError",
     "evalue": "No module named iplantuml",
     "output_type": "error",
     "traceback": [
      "\u001b[0;31m---------------------------------------------------------------------------\u001b[0m",
      "\u001b[0;31mImportError\u001b[0m                               Traceback (most recent call last)",
      "\u001b[0;32m<ipython-input-17-aeaed973df32>\u001b[0m in \u001b[0;36m<module>\u001b[0;34m()\u001b[0m\n\u001b[0;32m----> 1\u001b[0;31m \u001b[1;32mimport\u001b[0m \u001b[0miplantuml\u001b[0m\u001b[1;33m\u001b[0m\u001b[0m\n\u001b[0m",
      "\u001b[0;31mImportError\u001b[0m: No module named iplantuml"
     ]
    }
   ],
   "source": [
    "import iplantuml"
   ]
  },
  {
   "cell_type": "code",
   "execution_count": 20,
   "metadata": {
    "collapsed": false
   },
   "outputs": [
    {
     "name": "stderr",
     "output_type": "stream",
     "text": [
      "ERROR:root:Cell magic `%%plantuml` not found.\n"
     ]
    }
   ],
   "source": [
    "%%plantuml\n",
    "@startuml\n",
    "(*)--> \"import library\"\n",
    "--> \"transform string to tree\"\n",
    "--> \"define selector\"\n",
    "--> \"get selected elements of the tree\"\n",
    "-->(*)\n",
    "@enduml"
   ]
  },
  {
   "cell_type": "code",
   "execution_count": 21,
   "metadata": {
    "collapsed": false
   },
   "outputs": [
    {
     "data": {
      "text/html": [
       "<html>\n",
       "<body>\n",
       "\n",
       "<h2 class=\"my\">Turn this into blue</h2>\n",
       "\n",
       "<button onclick=\"myFunction()\">Click</button>\n",
       "\n",
       "<script>\n",
       "function myFunction() {\n",
       "    document.querySelector(\".my\").style.backgroundColor = \"blue\";\n",
       "}\n",
       "</script>\n",
       "\n",
       "</body>\n",
       "</html>"
      ],
      "text/plain": [
       "<IPython.core.display.HTML object>"
      ]
     },
     "metadata": {},
     "output_type": "display_data"
    }
   ],
   "source": [
    "%%HTML\n",
    "<html>\n",
    "<body>\n",
    "\n",
    "<h2 class=\"my\">Turn this into blue</h2>\n",
    "\n",
    "<button onclick=\"myFunction()\">Click</button>\n",
    "\n",
    "<script>\n",
    "function myFunction() {\n",
    "    document.querySelector(\".my\").style.backgroundColor = \"blue\";\n",
    "}\n",
    "</script>\n",
    "\n",
    "</body>\n",
    "</html>"
   ]
  },
  {
   "cell_type": "code",
   "execution_count": 22,
   "metadata": {
    "collapsed": false
   },
   "outputs": [
    {
     "data": {
      "text/html": [
       "<html>\n",
       "<body>\n",
       "\n",
       "<p id=\"p2\">Hello World!</p>\n",
       "\n",
       "<script>\n",
       "document.getElementById(\"p2\").style.color = \"RED\";\n",
       "</script>\n",
       "\n",
       "<p>Hello World turned into RED!</p>\n",
       "\n",
       "</body>\n",
       "</html>"
      ],
      "text/plain": [
       "<IPython.core.display.HTML object>"
      ]
     },
     "metadata": {},
     "output_type": "display_data"
    }
   ],
   "source": [
    "%%HTML\n",
    "<html>\n",
    "<body>\n",
    "\n",
    "<p id=\"p2\">Hello World!</p>\n",
    "\n",
    "<script>\n",
    "document.getElementById(\"p2\").style.color = \"RED\";\n",
    "</script>\n",
    "\n",
    "<p>Hello World turned into RED!</p>\n",
    "\n",
    "</body>\n",
    "</html>"
   ]
  },
  {
   "cell_type": "code",
   "execution_count": 23,
   "metadata": {
    "collapsed": false
   },
   "outputs": [
    {
     "name": "stdout",
     "output_type": "stream",
     "text": [
      "Overwriting my.xml\n"
     ]
    }
   ],
   "source": [
    "%%writefile my.xml\n",
    "<?xml version=\"1.0\" encoding=\"utf-8\"?>\n",
    "<wikimedia>\n",
    "  <projects>\n",
    "    <project name=\"Wikipedia\" launch=\"2001-01-05\">\n",
    "      <editions>\n",
    "        <edition language=\"English\">en.wikipedia.org</edition>\n",
    "        <edition language=\"German\">de.wikipedia.org</edition>\n",
    "        <edition language=\"French\">fr.wikipedia.org</edition>\n",
    "        <edition language=\"Polish\">pl.wikipedia.org</edition>\n",
    "        <edition language=\"Spanish\">es.wikipedia.org</edition>\n",
    "      </editions>\n",
    "    </project>\n",
    "    <project name=\"Wiktionary\" launch=\"2002-12-12\">\n",
    "      <editions>\n",
    "        <edition language=\"English\">en.wiktionary.org</edition>\n",
    "        <edition language=\"French\">fr.wiktionary.org</edition>\n",
    "        <edition language=\"Vietnamese\">vi.wiktionary.org</edition>\n",
    "        <edition language=\"Turkish\">tr.wiktionary.org</edition>\n",
    "        <edition language=\"Spanish\">es.wiktionary.org</edition>\n",
    "      </editions>\n",
    "    </project>\n",
    "  </projects>\n",
    "</wikimedia>"
   ]
  },
  {
   "cell_type": "code",
   "execution_count": 24,
   "metadata": {
    "collapsed": false
   },
   "outputs": [
    {
     "name": "stdout",
     "output_type": "stream",
     "text": [
      "<Element 'wikimedia' at 0x3d7d090>\n"
     ]
    }
   ],
   "source": [
    "import xml.etree.ElementTree as ET\n",
    "tree=ET.parse('my.xml')\n",
    "root=tree.getroot()\n",
    "print root"
   ]
  },
  {
   "cell_type": "code",
   "execution_count": 25,
   "metadata": {
    "collapsed": false
   },
   "outputs": [
    {
     "name": "stdout",
     "output_type": "stream",
     "text": [
      "wikimedia {}\n",
      "projects {}\n",
      "project {'name': 'Wikipedia', 'launch': '2001-01-05'}\n",
      "editions {}\n",
      "edition {'language': 'English'}\n",
      "edition {'language': 'German'}\n",
      "edition {'language': 'French'}\n",
      "edition {'language': 'Polish'}\n",
      "edition {'language': 'Spanish'}\n",
      "project {'name': 'Wiktionary', 'launch': '2002-12-12'}\n",
      "editions {}\n",
      "edition {'language': 'English'}\n",
      "edition {'language': 'French'}\n",
      "edition {'language': 'Vietnamese'}\n",
      "edition {'language': 'Turkish'}\n",
      "edition {'language': 'Spanish'}\n"
     ]
    }
   ],
   "source": [
    "for i in root.getiterator():\n",
    "    print i.tag, i.attrib"
   ]
  },
  {
   "cell_type": "code",
   "execution_count": 26,
   "metadata": {
    "collapsed": true
   },
   "outputs": [],
   "source": [
    "f=open('my.xml')\n",
    "myxml=f.read()\n",
    "f.close()"
   ]
  },
  {
   "cell_type": "code",
   "execution_count": 27,
   "metadata": {
    "collapsed": false
   },
   "outputs": [
    {
     "name": "stdout",
     "output_type": "stream",
     "text": [
      "<type 'str'>\n"
     ]
    }
   ],
   "source": [
    "print type(myxml)"
   ]
  },
  {
   "cell_type": "code",
   "execution_count": 28,
   "metadata": {
    "collapsed": false
   },
   "outputs": [
    {
     "name": "stdout",
     "output_type": "stream",
     "text": [
      "<?xml version=\"1.0\" encoding=\"utf-8\"?>\n",
      "<wikimedia>\n",
      "  <projects>\n",
      "    <project name=\"Wikipedia\" launch=\"2001-01-05\">\n",
      "      <editions>\n",
      "        <edition language=\"English\">en.wikipedia.org</edition>\n",
      "        <edition language=\"German\">de.wikipedia.org</edition>\n",
      "        <edition language=\"French\">fr.wikipedia.org</edition>\n",
      "        <edition language=\"Polish\">pl.wikipedia.org</edition>\n",
      "        <edition language=\"Spanish\">es.wikipedia.org</edition>\n",
      "      </editions>\n",
      "    </project>\n",
      "    <project name=\"Wiktionary\" launch=\"2002-12-12\">\n",
      "      <editions>\n",
      "        <edition language=\"English\">en.wiktionary.org</edition>\n",
      "        <edition language=\"French\">fr.wiktionary.org</edition>\n",
      "        <edition language=\"Vietnamese\">vi.wiktionary.org</edition>\n",
      "        <edition language=\"Turkish\">tr.wiktionary.org</edition>\n",
      "        <edition language=\"Spanish\">es.wiktionary.org</edition>\n",
      "      </editions>\n",
      "    </project>\n",
      "  </projects>\n",
      "</wikimedia>\n"
     ]
    }
   ],
   "source": [
    "print myxml"
   ]
  },
  {
   "cell_type": "code",
   "execution_count": 29,
   "metadata": {
    "collapsed": false
   },
   "outputs": [
    {
     "name": "stdout",
     "output_type": "stream",
     "text": [
      "wikimedia {}\n",
      "projects {}\n",
      "project {'name': 'Wikipedia', 'launch': '2001-01-05'}\n",
      "editions {}\n",
      "edition {'language': 'English'}\n",
      "edition {'language': 'German'}\n",
      "edition {'language': 'French'}\n",
      "edition {'language': 'Polish'}\n",
      "edition {'language': 'Spanish'}\n",
      "project {'name': 'Wiktionary', 'launch': '2002-12-12'}\n",
      "editions {}\n",
      "edition {'language': 'English'}\n",
      "edition {'language': 'French'}\n",
      "edition {'language': 'Vietnamese'}\n",
      "edition {'language': 'Turkish'}\n",
      "edition {'language': 'Spanish'}\n"
     ]
    }
   ],
   "source": [
    "import xml.etree.ElementTree as ET\n",
    "root=ET.fromstring(myxml)\n",
    "for i in root.getiterator():\n",
    "    print i.tag, i.attrib"
   ]
  },
  {
   "cell_type": "code",
   "execution_count": 30,
   "metadata": {
    "collapsed": true
   },
   "outputs": [],
   "source": [
    "import lxml\n",
    "import lxml.etree\n",
    "\n",
    "tree=lxml.etree.parse('my.xml')\n",
    "root=tree.getroot()"
   ]
  },
  {
   "cell_type": "code",
   "execution_count": 31,
   "metadata": {
    "collapsed": true
   },
   "outputs": [],
   "source": [
    "import StringIO\n",
    "tree=lxml.etree.parse(StringIO.StringIO(myxml))\n",
    "context=lxml.etree.iterparse(StringIO.StringIO(myxml))"
   ]
  },
  {
   "cell_type": "code",
   "execution_count": 32,
   "metadata": {
    "collapsed": false
   },
   "outputs": [
    {
     "data": {
      "text/plain": [
       "lxml.etree.iterparse"
      ]
     },
     "execution_count": 32,
     "metadata": {},
     "output_type": "execute_result"
    }
   ],
   "source": [
    "type(context)"
   ]
  },
  {
   "cell_type": "code",
   "execution_count": 33,
   "metadata": {
    "collapsed": false
   },
   "outputs": [
    {
     "name": "stdout",
     "output_type": "stream",
     "text": [
      "edition=>en.wikipedia.org\n",
      "edition=>de.wikipedia.org\n",
      "edition=>fr.wikipedia.org\n",
      "edition=>pl.wikipedia.org\n",
      "edition=>es.wikipedia.org\n",
      "editions=>\n",
      "        \n",
      "project=>\n",
      "      \n",
      "edition=>en.wiktionary.org\n",
      "edition=>fr.wiktionary.org\n",
      "edition=>vi.wiktionary.org\n",
      "edition=>tr.wiktionary.org\n",
      "edition=>es.wiktionary.org\n",
      "editions=>\n",
      "        \n",
      "project=>\n",
      "      \n",
      "projects=>\n",
      "    \n",
      "wikimedia=>\n",
      "  \n"
     ]
    }
   ],
   "source": [
    "for action, elem in context:\n",
    "    if not elem.text:\n",
    "        text=\"None\"\n",
    "    else:\n",
    "        text=elem.text\n",
    "    print elem.tag+\"=>\"+text"
   ]
  },
  {
   "cell_type": "code",
   "execution_count": 34,
   "metadata": {
    "collapsed": false
   },
   "outputs": [
    {
     "name": "stdout",
     "output_type": "stream",
     "text": [
      "2\n"
     ]
    }
   ],
   "source": [
    "nodes = tree.xpath(\"/wikimedia/projects/project/@name\")\n",
    "print len(nodes)"
   ]
  },
  {
   "cell_type": "code",
   "execution_count": 35,
   "metadata": {
    "collapsed": false
   },
   "outputs": [
    {
     "name": "stdout",
     "output_type": "stream",
     "text": [
      "Wikipedia\n",
      "Wiktionary\n"
     ]
    }
   ],
   "source": [
    "for node in nodes:\n",
    "    print node"
   ]
  },
  {
   "cell_type": "code",
   "execution_count": 36,
   "metadata": {
    "collapsed": false
   },
   "outputs": [
    {
     "name": "stdout",
     "output_type": "stream",
     "text": [
      "10\n"
     ]
    }
   ],
   "source": [
    "nodes = tree.xpath(\"//editions/edition/text()\")\n",
    "print len(nodes)"
   ]
  },
  {
   "cell_type": "code",
   "execution_count": 37,
   "metadata": {
    "collapsed": false
   },
   "outputs": [
    {
     "name": "stdout",
     "output_type": "stream",
     "text": [
      "en.wikipedia.org\n",
      "de.wikipedia.org\n",
      "fr.wikipedia.org\n",
      "pl.wikipedia.org\n",
      "es.wikipedia.org\n",
      "en.wiktionary.org\n",
      "fr.wiktionary.org\n",
      "vi.wiktionary.org\n",
      "tr.wiktionary.org\n",
      "es.wiktionary.org\n"
     ]
    }
   ],
   "source": [
    "for node in nodes:\n",
    "    print node"
   ]
  },
  {
   "cell_type": "code",
   "execution_count": 38,
   "metadata": {
    "collapsed": false
   },
   "outputs": [
    {
     "name": "stdout",
     "output_type": "stream",
     "text": [
      "2\n"
     ]
    }
   ],
   "source": [
    "nodes = tree.xpath(\"/wikimedia/projects/project/editions/edition[@language='English']/text()\")\n",
    "print len(nodes)"
   ]
  },
  {
   "cell_type": "code",
   "execution_count": 39,
   "metadata": {
    "collapsed": false
   },
   "outputs": [
    {
     "name": "stdout",
     "output_type": "stream",
     "text": [
      "en.wikipedia.org\n",
      "en.wiktionary.org\n"
     ]
    }
   ],
   "source": [
    "for node in nodes:\n",
    "    print node"
   ]
  },
  {
   "cell_type": "code",
   "execution_count": 40,
   "metadata": {
    "collapsed": false
   },
   "outputs": [
    {
     "name": "stdout",
     "output_type": "stream",
     "text": [
      "5\n"
     ]
    }
   ],
   "source": [
    "nodes = tree.xpath(\"/wikimedia/projects/project[@name='Wikipedia']/editions/edition/text()\")\n",
    "print len(nodes)"
   ]
  },
  {
   "cell_type": "code",
   "execution_count": 41,
   "metadata": {
    "collapsed": false
   },
   "outputs": [
    {
     "name": "stdout",
     "output_type": "stream",
     "text": [
      "en.wikipedia.org\n",
      "de.wikipedia.org\n",
      "fr.wikipedia.org\n",
      "pl.wikipedia.org\n",
      "es.wikipedia.org\n"
     ]
    }
   ],
   "source": [
    "for node in nodes:\n",
    "    print node"
   ]
  },
  {
   "cell_type": "code",
   "execution_count": 42,
   "metadata": {
    "collapsed": false
   },
   "outputs": [
    {
     "data": {
      "text/html": [
       "<!DOCTYPE html>\n",
       "<html>\n",
       "<head>\n",
       "    <meta charset=\"UTF-8\">\n",
       "    <title>My Home Page</title>\n",
       "    <style>\n",
       "        h1 {text-align: center;\n",
       "           color:red;\n",
       "        };\n",
       "    </style>\n",
       "</head>\n",
       "<body>\n",
       "    <h1>안녕하십니까</h1>\n",
       "    <p>오늘은 프로그래밍 하는 날...</p>\n",
       "    <p>Today we do programming...</p>\n",
       "</body>\n",
       "</html>"
      ],
      "text/plain": [
       "<IPython.core.display.HTML object>"
      ]
     },
     "metadata": {},
     "output_type": "display_data"
    }
   ],
   "source": [
    "%%HTML\n",
    "<!DOCTYPE html>\n",
    "<html>\n",
    "<head>\n",
    "    <meta charset=\"UTF-8\">\n",
    "    <title>My Home Page</title>\n",
    "    <style>\n",
    "        h1 {text-align: center;\n",
    "           color:red;\n",
    "        };\n",
    "    </style>\n",
    "</head>\n",
    "<body>\n",
    "    <h1>안녕하십니까</h1>\n",
    "    <p>오늘은 프로그래밍 하는 날...</p>\n",
    "    <p>Today we do programming...</p>\n",
    "</body>\n",
    "</html>"
   ]
  },
  {
   "cell_type": "code",
   "execution_count": 43,
   "metadata": {
    "collapsed": false
   },
   "outputs": [
    {
     "data": {
      "text/plain": [
       "lxml.etree._ElementTree"
      ]
     },
     "execution_count": 43,
     "metadata": {},
     "output_type": "execute_result"
    }
   ],
   "source": [
    "type(tree)"
   ]
  },
  {
   "cell_type": "code",
   "execution_count": 44,
   "metadata": {
    "collapsed": false
   },
   "outputs": [
    {
     "name": "stdout",
     "output_type": "stream",
     "text": [
      "<type 'list'> 1\n"
     ]
    }
   ],
   "source": [
    "import lxml.html\n",
    "from lxml.cssselect import CSSSelector\n",
    "\n",
    "# construct a CSS Selector -> \n",
    "sel = CSSSelector('wikimedia')\n",
    "# Apply the selector to the DOM tree.\n",
    "results = sel(tree)\n",
    "print type(results),len(results)"
   ]
  },
  {
   "cell_type": "code",
   "execution_count": 45,
   "metadata": {
    "collapsed": false
   },
   "outputs": [
    {
     "name": "stdout",
     "output_type": "stream",
     "text": [
      "<wikimedia>\n",
      "  <projects>\n",
      "    <project name=\"Wikipedia\" launch=\"2001-01-05\">\n",
      "      <editions>\n",
      "        <edition language=\"English\">en.wikipedia.org</edition>\n",
      "        <edition language=\"German\">de.wikipedia.org</edition>\n",
      "        <edition language=\"French\">fr.wikipedia.org</edition>\n",
      "        <edition language=\"Polish\">pl.wikipedia.org</edition>\n",
      "        <edition language=\"Spanish\">es.wikipedia.org</edition>\n",
      "      </editions>\n",
      "    </project>\n",
      "    <project name=\"Wiktionary\" launch=\"2002-12-12\">\n",
      "      <editions>\n",
      "        <edition language=\"English\">en.wiktionary.org</edition>\n",
      "        <edition language=\"French\">fr.wiktionary.org</edition>\n",
      "        <edition language=\"Vietnamese\">vi.wiktionary.org</edition>\n",
      "        <edition language=\"Turkish\">tr.wiktionary.org</edition>\n",
      "        <edition language=\"Spanish\">es.wiktionary.org</edition>\n",
      "      </editions>\n",
      "    </project>\n",
      "  </projects>\n",
      "</wikimedia>\n"
     ]
    }
   ],
   "source": [
    "for each in results:\n",
    "    print lxml.html.tostring(each)"
   ]
  },
  {
   "cell_type": "code",
   "execution_count": 46,
   "metadata": {
    "collapsed": true
   },
   "outputs": [],
   "source": [
    "myhtml=\"\"\"<!DOCTYPE html>\n",
    "<html>\n",
    "<head>\n",
    "<meta charset=\"UTF-8\">\n",
    "<title>My Home Page</title>\n",
    "</head>\n",
    "<body>\n",
    "<h1>안녕하십니까</h1>\n",
    "<p>오늘은 프로그래밍 하는 날...</p>\n",
    "<p>Today we do programming...</p>\n",
    "</body>\n",
    "</html>\"\"\""
   ]
  },
  {
   "cell_type": "code",
   "execution_count": 47,
   "metadata": {
    "collapsed": true
   },
   "outputs": [],
   "source": [
    "import lxml.html\n",
    "from lxml.cssselect import CSSSelector\n",
    "\n",
    "_html = lxml.html.fromstring(myhtml)"
   ]
  },
  {
   "cell_type": "code",
   "execution_count": 48,
   "metadata": {
    "collapsed": false
   },
   "outputs": [
    {
     "name": "stdout",
     "output_type": "stream",
     "text": [
      "<html>\n",
      "<head>\n",
      "<meta charset=\"UTF-8\">\n",
      "<title>My Home Page</title>\n",
      "</head>\n",
      "<body>\n",
      "<h1>&#50504;&#45397;&#54616;&#49901;&#45768;&#44620;</h1>\n",
      "<p>&#50724;&#45720;&#51008; &#54532;&#47196;&#44536;&#47000;&#48141; &#54616;&#45716; &#45216;...</p>\n",
      "<p>Today we do programming...</p>\n",
      "</body>\n",
      "</html>\n"
     ]
    }
   ],
   "source": [
    "print lxml.html.tostring(_html)"
   ]
  },
  {
   "cell_type": "code",
   "execution_count": 49,
   "metadata": {
    "collapsed": false
   },
   "outputs": [
    {
     "name": "stdout",
     "output_type": "stream",
     "text": [
      "[<Element p at 0x3dbdba0>, <Element p at 0x3eba270>]\n"
     ]
    }
   ],
   "source": [
    "sel = CSSSelector('body  p')\n",
    "results = sel(_html)\n",
    "print results"
   ]
  },
  {
   "cell_type": "code",
   "execution_count": 50,
   "metadata": {
    "collapsed": false
   },
   "outputs": [
    {
     "name": "stdout",
     "output_type": "stream",
     "text": [
      "오늘은 프로그래밍 하는 날...\n",
      "Today we do programming...\n"
     ]
    }
   ],
   "source": [
    "for result in results:\n",
    "    print result.text"
   ]
  },
  {
   "cell_type": "code",
   "execution_count": 51,
   "metadata": {
    "collapsed": false
   },
   "outputs": [
    {
     "name": "stdout",
     "output_type": "stream",
     "text": [
      "[<Element p at 0x3eba060>]\n"
     ]
    }
   ],
   "source": [
    "_html = lxml.html.fromstring(myhtml)\n",
    "sel = CSSSelector('body > p:nth-child(2)')\n",
    "results = sel(_html)\n",
    "print results"
   ]
  },
  {
   "cell_type": "code",
   "execution_count": 52,
   "metadata": {
    "collapsed": false
   },
   "outputs": [
    {
     "name": "stdout",
     "output_type": "stream",
     "text": [
      "오늘은 프로그래밍 하는 날...\n"
     ]
    }
   ],
   "source": [
    "for result in results:\n",
    "    print result.text"
   ]
  },
  {
   "cell_type": "code",
   "execution_count": 53,
   "metadata": {
    "collapsed": false
   },
   "outputs": [
    {
     "name": "stdout",
     "output_type": "stream",
     "text": [
      "[<Element h1 at 0x3eb3ba0>]\n"
     ]
    }
   ],
   "source": [
    "_html = lxml.html.fromstring(myhtml)\n",
    "sel = CSSSelector('body > h1')\n",
    "results = sel(_html)\n",
    "print results"
   ]
  },
  {
   "cell_type": "code",
   "execution_count": 54,
   "metadata": {
    "collapsed": false
   },
   "outputs": [
    {
     "name": "stdout",
     "output_type": "stream",
     "text": [
      "안녕하십니까\n"
     ]
    }
   ],
   "source": [
    "for result in results:\n",
    "    print result.text"
   ]
  },
  {
   "cell_type": "code",
   "execution_count": 56,
   "metadata": {
    "collapsed": false
   },
   "outputs": [
    {
     "ename": "SyntaxError",
     "evalue": "invalid syntax (<ipython-input-56-b3d1769265ed>, line 1)",
     "output_type": "error",
     "traceback": [
      "\u001b[0;36m  File \u001b[0;32m\"<ipython-input-56-b3d1769265ed>\"\u001b[0;36m, line \u001b[0;32m1\u001b[0m\n\u001b[0;31m    $ scrapy shell http://stackoverflow.com\u001b[0m\n\u001b[0m    ^\u001b[0m\n\u001b[0;31mSyntaxError\u001b[0m\u001b[0;31m:\u001b[0m invalid syntax\n"
     ]
    }
   ],
   "source": [
    "$ scrapy shell http://stackoverflow.com\n",
    ">>> response.url\n",
    ">>> response.headers\n",
    ">>> response.xpath('//title')"
   ]
  },
  {
   "cell_type": "code",
   "execution_count": 59,
   "metadata": {
    "collapsed": false
   },
   "outputs": [
    {
     "name": "stdout",
     "output_type": "stream",
     "text": [
      "Writing src/ds_web_data_hello_scrapy.py\n"
     ]
    },
    {
     "ename": "IOError",
     "evalue": "[Errno 2] No such file or directory: u'src/ds_web_data_hello_scrapy.py'",
     "output_type": "error",
     "traceback": [
      "\u001b[0;31m---------------------------------------------------------------------------\u001b[0m",
      "\u001b[0;31mIOError\u001b[0m                                   Traceback (most recent call last)",
      "\u001b[0;32m<ipython-input-59-db299bfd46c7>\u001b[0m in \u001b[0;36m<module>\u001b[0;34m()\u001b[0m\n\u001b[0;32m----> 1\u001b[0;31m \u001b[0mget_ipython\u001b[0m\u001b[1;33m(\u001b[0m\u001b[1;33m)\u001b[0m\u001b[1;33m.\u001b[0m\u001b[0mrun_cell_magic\u001b[0m\u001b[1;33m(\u001b[0m\u001b[1;34mu'writefile'\u001b[0m\u001b[1;33m,\u001b[0m \u001b[1;34mu'src/ds_web_data_hello_scrapy.py'\u001b[0m\u001b[1;33m,\u001b[0m \u001b[1;34mu'import scrapy\\n\\nclass myItem(scrapy.item.Item):\\n    title = scrapy.item.Field()\\n\\nclass myCrawler(scrapy.spiders.CrawlSpider):\\n    name = \\'myAppName\\'\\n    start_urls = [\\'https://data.go.kr\\']\\n    def parse(self, response):\\n        item = myItem()\\n        #title = scrapy.selector.Selector(response).xpath(\\'//title/text()\\')\\n        title = scrapy.selector.Selector(response).css(\\'title\\').extract()\\n        print \"---Hello---\", title\\n        item[\\'title\\']=title\\n        return item'\u001b[0m\u001b[1;33m)\u001b[0m\u001b[1;33m\u001b[0m\u001b[0m\n\u001b[0m",
      "\u001b[0;32mC:\\Program Files (x86)\\Anaconda2\\lib\\site-packages\\IPython\\core\\interactiveshell.py\u001b[0m in \u001b[0;36mrun_cell_magic\u001b[0;34m(self, magic_name, line, cell)\u001b[0m\n\u001b[1;32m   2113\u001b[0m             \u001b[0mmagic_arg_s\u001b[0m \u001b[1;33m=\u001b[0m \u001b[0mself\u001b[0m\u001b[1;33m.\u001b[0m\u001b[0mvar_expand\u001b[0m\u001b[1;33m(\u001b[0m\u001b[0mline\u001b[0m\u001b[1;33m,\u001b[0m \u001b[0mstack_depth\u001b[0m\u001b[1;33m)\u001b[0m\u001b[1;33m\u001b[0m\u001b[0m\n\u001b[1;32m   2114\u001b[0m             \u001b[1;32mwith\u001b[0m \u001b[0mself\u001b[0m\u001b[1;33m.\u001b[0m\u001b[0mbuiltin_trap\u001b[0m\u001b[1;33m:\u001b[0m\u001b[1;33m\u001b[0m\u001b[0m\n\u001b[0;32m-> 2115\u001b[0;31m                 \u001b[0mresult\u001b[0m \u001b[1;33m=\u001b[0m \u001b[0mfn\u001b[0m\u001b[1;33m(\u001b[0m\u001b[0mmagic_arg_s\u001b[0m\u001b[1;33m,\u001b[0m \u001b[0mcell\u001b[0m\u001b[1;33m)\u001b[0m\u001b[1;33m\u001b[0m\u001b[0m\n\u001b[0m\u001b[1;32m   2116\u001b[0m             \u001b[1;32mreturn\u001b[0m \u001b[0mresult\u001b[0m\u001b[1;33m\u001b[0m\u001b[0m\n\u001b[1;32m   2117\u001b[0m \u001b[1;33m\u001b[0m\u001b[0m\n",
      "\u001b[0;32m<decorator-gen-104>\u001b[0m in \u001b[0;36mwritefile\u001b[0;34m(self, line, cell)\u001b[0m\n",
      "\u001b[0;32mC:\\Program Files (x86)\\Anaconda2\\lib\\site-packages\\IPython\\core\\magic.py\u001b[0m in \u001b[0;36m<lambda>\u001b[0;34m(f, *a, **k)\u001b[0m\n\u001b[1;32m    186\u001b[0m     \u001b[1;31m# but it's overkill for just that one bit of state.\u001b[0m\u001b[1;33m\u001b[0m\u001b[1;33m\u001b[0m\u001b[0m\n\u001b[1;32m    187\u001b[0m     \u001b[1;32mdef\u001b[0m \u001b[0mmagic_deco\u001b[0m\u001b[1;33m(\u001b[0m\u001b[0marg\u001b[0m\u001b[1;33m)\u001b[0m\u001b[1;33m:\u001b[0m\u001b[1;33m\u001b[0m\u001b[0m\n\u001b[0;32m--> 188\u001b[0;31m         \u001b[0mcall\u001b[0m \u001b[1;33m=\u001b[0m \u001b[1;32mlambda\u001b[0m \u001b[0mf\u001b[0m\u001b[1;33m,\u001b[0m \u001b[1;33m*\u001b[0m\u001b[0ma\u001b[0m\u001b[1;33m,\u001b[0m \u001b[1;33m**\u001b[0m\u001b[0mk\u001b[0m\u001b[1;33m:\u001b[0m \u001b[0mf\u001b[0m\u001b[1;33m(\u001b[0m\u001b[1;33m*\u001b[0m\u001b[0ma\u001b[0m\u001b[1;33m,\u001b[0m \u001b[1;33m**\u001b[0m\u001b[0mk\u001b[0m\u001b[1;33m)\u001b[0m\u001b[1;33m\u001b[0m\u001b[0m\n\u001b[0m\u001b[1;32m    189\u001b[0m \u001b[1;33m\u001b[0m\u001b[0m\n\u001b[1;32m    190\u001b[0m         \u001b[1;32mif\u001b[0m \u001b[0mcallable\u001b[0m\u001b[1;33m(\u001b[0m\u001b[0marg\u001b[0m\u001b[1;33m)\u001b[0m\u001b[1;33m:\u001b[0m\u001b[1;33m\u001b[0m\u001b[0m\n",
      "\u001b[0;32mC:\\Program Files (x86)\\Anaconda2\\lib\\site-packages\\IPython\\core\\magics\\osm.py\u001b[0m in \u001b[0;36mwritefile\u001b[0;34m(self, line, cell)\u001b[0m\n\u001b[1;32m    787\u001b[0m \u001b[1;33m\u001b[0m\u001b[0m\n\u001b[1;32m    788\u001b[0m         \u001b[0mmode\u001b[0m \u001b[1;33m=\u001b[0m \u001b[1;34m'a'\u001b[0m \u001b[1;32mif\u001b[0m \u001b[0margs\u001b[0m\u001b[1;33m.\u001b[0m\u001b[0mappend\u001b[0m \u001b[1;32melse\u001b[0m \u001b[1;34m'w'\u001b[0m\u001b[1;33m\u001b[0m\u001b[0m\n\u001b[0;32m--> 789\u001b[0;31m         \u001b[1;32mwith\u001b[0m \u001b[0mio\u001b[0m\u001b[1;33m.\u001b[0m\u001b[0mopen\u001b[0m\u001b[1;33m(\u001b[0m\u001b[0mfilename\u001b[0m\u001b[1;33m,\u001b[0m \u001b[0mmode\u001b[0m\u001b[1;33m,\u001b[0m \u001b[0mencoding\u001b[0m\u001b[1;33m=\u001b[0m\u001b[1;34m'utf-8'\u001b[0m\u001b[1;33m)\u001b[0m \u001b[1;32mas\u001b[0m \u001b[0mf\u001b[0m\u001b[1;33m:\u001b[0m\u001b[1;33m\u001b[0m\u001b[0m\n\u001b[0m\u001b[1;32m    790\u001b[0m             \u001b[0mf\u001b[0m\u001b[1;33m.\u001b[0m\u001b[0mwrite\u001b[0m\u001b[1;33m(\u001b[0m\u001b[0mcell\u001b[0m\u001b[1;33m)\u001b[0m\u001b[1;33m\u001b[0m\u001b[0m\n",
      "\u001b[0;31mIOError\u001b[0m: [Errno 2] No such file or directory: u'src/ds_web_data_hello_scrapy.py'"
     ]
    }
   ],
   "source": [
    "%%writefile src/ds_web_data_hello_scrapy.py\n",
    "import scrapy\n",
    "\n",
    "class myItem(scrapy.item.Item):\n",
    "    title = scrapy.item.Field()\n",
    "\n",
    "class myCrawler(scrapy.spiders.CrawlSpider):\n",
    "    name = 'myAppName'\n",
    "    start_urls = ['https://data.go.kr']\n",
    "    def parse(self, response):\n",
    "        item = myItem()\n",
    "        #title = scrapy.selector.Selector(response).xpath('//title/text()')\n",
    "        title = scrapy.selector.Selector(response).css('title').extract()\n",
    "        print \"---Hello---\", title\n",
    "        item['title']=title\n",
    "        return item"
   ]
  },
  {
   "cell_type": "code",
   "execution_count": 60,
   "metadata": {
    "collapsed": false
   },
   "outputs": [
    {
     "name": "stderr",
     "output_type": "stream",
     "text": [
      "Traceback (most recent call last):\n",
      "  File \"C:\\Program Files (x86)\\Anaconda2\\Scripts\\scrapy-script.py\", line 6, in <module>\n",
      "    sys.exit(scrapy.cmdline.execute())\n",
      "  File \"C:\\Program Files (x86)\\Anaconda2\\lib\\site-packages\\scrapy\\cmdline.py\", line 121, in execute\n",
      "    cmds = _get_commands_dict(settings, inproject)\n",
      "  File \"C:\\Program Files (x86)\\Anaconda2\\lib\\site-packages\\scrapy\\cmdline.py\", line 45, in _get_commands_dict\n",
      "    cmds = _get_commands_from_module('scrapy.commands', inproject)\n",
      "  File \"C:\\Program Files (x86)\\Anaconda2\\lib\\site-packages\\scrapy\\cmdline.py\", line 28, in _get_commands_from_module\n",
      "    for cmd in _iter_command_classes(module):\n",
      "  File \"C:\\Program Files (x86)\\Anaconda2\\lib\\site-packages\\scrapy\\cmdline.py\", line 19, in _iter_command_classes\n",
      "    for module in walk_modules(module_name):\n",
      "  File \"C:\\Program Files (x86)\\Anaconda2\\lib\\site-packages\\scrapy\\utils\\misc.py\", line 71, in walk_modules\n",
      "    submod = import_module(fullpath)\n",
      "  File \"C:\\Program Files (x86)\\Anaconda2\\lib\\importlib\\__init__.py\", line 37, in import_module\n",
      "    __import__(name)\n",
      "  File \"C:\\Program Files (x86)\\Anaconda2\\lib\\site-packages\\scrapy\\commands\\version.py\", line 6, in <module>\n",
      "    import OpenSSL\n",
      "  File \"C:\\Program Files (x86)\\Anaconda2\\lib\\site-packages\\OpenSSL\\__init__.py\", line 8, in <module>\n",
      "    from OpenSSL import rand, crypto, SSL\n",
      "  File \"C:\\Program Files (x86)\\Anaconda2\\lib\\site-packages\\OpenSSL\\rand.py\", line 12, in <module>\n",
      "    from OpenSSL._util import (\n",
      "  File \"C:\\Program Files (x86)\\Anaconda2\\lib\\site-packages\\OpenSSL\\_util.py\", line 6, in <module>\n",
      "    from cryptography.hazmat.bindings.openssl.binding import Binding\n",
      "  File \"C:\\Program Files (x86)\\Anaconda2\\lib\\site-packages\\cryptography\\hazmat\\bindings\\openssl\\binding.py\", line 14, in <module>\n",
      "    from cryptography.hazmat.bindings._openssl import ffi, lib\n",
      "ImportError: DLL load failed: 운영 체제가 %1을(를) 실행할 수 없습니다.\n"
     ]
    }
   ],
   "source": [
    "!scrapy crawl myAppName"
   ]
  },
  {
   "cell_type": "code",
   "execution_count": 61,
   "metadata": {
    "collapsed": false
   },
   "outputs": [
    {
     "name": "stderr",
     "output_type": "stream",
     "text": [
      "Traceback (most recent call last):\n",
      "  File \"C:\\Program Files (x86)\\Anaconda2\\Scripts\\scrapy-script.py\", line 6, in <module>\n",
      "    sys.exit(scrapy.cmdline.execute())\n",
      "  File \"C:\\Program Files (x86)\\Anaconda2\\lib\\site-packages\\scrapy\\cmdline.py\", line 121, in execute\n",
      "    cmds = _get_commands_dict(settings, inproject)\n",
      "  File \"C:\\Program Files (x86)\\Anaconda2\\lib\\site-packages\\scrapy\\cmdline.py\", line 45, in _get_commands_dict\n",
      "    cmds = _get_commands_from_module('scrapy.commands', inproject)\n",
      "  File \"C:\\Program Files (x86)\\Anaconda2\\lib\\site-packages\\scrapy\\cmdline.py\", line 28, in _get_commands_from_module\n",
      "    for cmd in _iter_command_classes(module):\n",
      "  File \"C:\\Program Files (x86)\\Anaconda2\\lib\\site-packages\\scrapy\\cmdline.py\", line 19, in _iter_command_classes\n",
      "    for module in walk_modules(module_name):\n",
      "  File \"C:\\Program Files (x86)\\Anaconda2\\lib\\site-packages\\scrapy\\utils\\misc.py\", line 71, in walk_modules\n",
      "    submod = import_module(fullpath)\n",
      "  File \"C:\\Program Files (x86)\\Anaconda2\\lib\\importlib\\__init__.py\", line 37, in import_module\n",
      "    __import__(name)\n",
      "  File \"C:\\Program Files (x86)\\Anaconda2\\lib\\site-packages\\scrapy\\commands\\version.py\", line 6, in <module>\n",
      "    import OpenSSL\n",
      "  File \"C:\\Program Files (x86)\\Anaconda2\\lib\\site-packages\\OpenSSL\\__init__.py\", line 8, in <module>\n",
      "    from OpenSSL import rand, crypto, SSL\n",
      "  File \"C:\\Program Files (x86)\\Anaconda2\\lib\\site-packages\\OpenSSL\\rand.py\", line 12, in <module>\n",
      "    from OpenSSL._util import (\n",
      "  File \"C:\\Program Files (x86)\\Anaconda2\\lib\\site-packages\\OpenSSL\\_util.py\", line 6, in <module>\n",
      "    from cryptography.hazmat.bindings.openssl.binding import Binding\n",
      "  File \"C:\\Program Files (x86)\\Anaconda2\\lib\\site-packages\\cryptography\\hazmat\\bindings\\openssl\\binding.py\", line 14, in <module>\n",
      "    from cryptography.hazmat.bindings._openssl import ffi, lib\n",
      "ImportError: DLL load failed: 운영 체제가 %1을(를) 실행할 수 없습니다.\n"
     ]
    }
   ],
   "source": [
    "!scrapy runspider src/ds_web_data_hello_scrapy.py"
   ]
  },
  {
   "cell_type": "code",
   "execution_count": 62,
   "metadata": {
    "collapsed": false
   },
   "outputs": [
    {
     "name": "stderr",
     "output_type": "stream",
     "text": [
      "Traceback (most recent call last):\n",
      "  File \"C:\\Program Files (x86)\\Anaconda2\\Scripts\\scrapy-script.py\", line 6, in <module>\n",
      "    sys.exit(scrapy.cmdline.execute())\n",
      "  File \"C:\\Program Files (x86)\\Anaconda2\\lib\\site-packages\\scrapy\\cmdline.py\", line 121, in execute\n",
      "    cmds = _get_commands_dict(settings, inproject)\n",
      "  File \"C:\\Program Files (x86)\\Anaconda2\\lib\\site-packages\\scrapy\\cmdline.py\", line 45, in _get_commands_dict\n",
      "    cmds = _get_commands_from_module('scrapy.commands', inproject)\n",
      "  File \"C:\\Program Files (x86)\\Anaconda2\\lib\\site-packages\\scrapy\\cmdline.py\", line 28, in _get_commands_from_module\n",
      "    for cmd in _iter_command_classes(module):\n",
      "  File \"C:\\Program Files (x86)\\Anaconda2\\lib\\site-packages\\scrapy\\cmdline.py\", line 19, in _iter_command_classes\n",
      "    for module in walk_modules(module_name):\n",
      "  File \"C:\\Program Files (x86)\\Anaconda2\\lib\\site-packages\\scrapy\\utils\\misc.py\", line 71, in walk_modules\n",
      "    submod = import_module(fullpath)\n",
      "  File \"C:\\Program Files (x86)\\Anaconda2\\lib\\importlib\\__init__.py\", line 37, in import_module\n",
      "    __import__(name)\n",
      "  File \"C:\\Program Files (x86)\\Anaconda2\\lib\\site-packages\\scrapy\\commands\\version.py\", line 6, in <module>\n",
      "    import OpenSSL\n",
      "  File \"C:\\Program Files (x86)\\Anaconda2\\lib\\site-packages\\OpenSSL\\__init__.py\", line 8, in <module>\n",
      "    from OpenSSL import rand, crypto, SSL\n",
      "  File \"C:\\Program Files (x86)\\Anaconda2\\lib\\site-packages\\OpenSSL\\rand.py\", line 12, in <module>\n",
      "    from OpenSSL._util import (\n",
      "  File \"C:\\Program Files (x86)\\Anaconda2\\lib\\site-packages\\OpenSSL\\_util.py\", line 6, in <module>\n",
      "    from cryptography.hazmat.bindings.openssl.binding import Binding\n",
      "  File \"C:\\Program Files (x86)\\Anaconda2\\lib\\site-packages\\cryptography\\hazmat\\bindings\\openssl\\binding.py\", line 14, in <module>\n",
      "    from cryptography.hazmat.bindings._openssl import ffi, lib\n",
      "ImportError: DLL load failed: 운영 체제가 %1을(를) 실행할 수 없습니다.\n"
     ]
    }
   ],
   "source": [
    "!scrapy runspider src/ds_web_data_hello_scrapy.py --output='src/ds_web_data_hello.csv' -t csv --logfile='src/ds_web_data_hello.log'"
   ]
  },
  {
   "cell_type": "code",
   "execution_count": null,
   "metadata": {
    "collapsed": true
   },
   "outputs": [],
   "source": []
  },
  {
   "cell_type": "code",
   "execution_count": null,
   "metadata": {
    "collapsed": true
   },
   "outputs": [],
   "source": []
  },
  {
   "cell_type": "code",
   "execution_count": null,
   "metadata": {
    "collapsed": true
   },
   "outputs": [],
   "source": []
  },
  {
   "cell_type": "code",
   "execution_count": null,
   "metadata": {
    "collapsed": true
   },
   "outputs": [],
   "source": []
  },
  {
   "cell_type": "code",
   "execution_count": null,
   "metadata": {
    "collapsed": true
   },
   "outputs": [],
   "source": []
  }
 ],
 "metadata": {
  "kernelspec": {
   "display_name": "Python [conda root]",
   "language": "python",
   "name": "conda-root-py"
  },
  "language_info": {
   "codemirror_mode": {
    "name": "ipython",
    "version": 2
   },
   "file_extension": ".py",
   "mimetype": "text/x-python",
   "name": "python",
   "nbconvert_exporter": "python",
   "pygments_lexer": "ipython2",
   "version": "2.7.12"
  }
 },
 "nbformat": 4,
 "nbformat_minor": 1
}
